{
  "nbformat": 4,
  "nbformat_minor": 0,
  "metadata": {
    "colab": {
      "name": "Untitled12.ipynb",
      "provenance": []
    },
    "kernelspec": {
      "name": "python3",
      "display_name": "Python 3"
    },
    "language_info": {
      "name": "python"
    }
  },
  "cells": [
    {
      "cell_type": "markdown",
      "source": [
        "Practical No:-10\n",
        "Practical Name:- Write a Python script that prints prime numbers less than 20"
      ],
      "metadata": {
        "id": "QOZiVc4naiiD"
      }
    },
    {
      "cell_type": "code",
      "execution_count": 1,
      "metadata": {
        "colab": {
          "base_uri": "https://localhost:8080/"
        },
        "id": "jeGosjTUaaCw",
        "outputId": "7377ec3c-0e3b-4d12-c715-016c7a48b7e0"
      },
      "outputs": [
        {
          "output_type": "stream",
          "name": "stdout",
          "text": [
            "Prime numbers between 1 and 20 are:\n",
            "2\n",
            "3\n",
            "5\n",
            "7\n",
            "11\n",
            "13\n",
            "17\n",
            "19\n"
          ]
        }
      ],
      "source": [
        "print(\"Prime numbers between 1 and 20 are:\")\n",
        "ulmt=20;\n",
        "for num in range(ulmt):\n",
        "   # prime numbers are greater than 1\n",
        "   if num > 1:\n",
        "       for i in range(2,num):\n",
        "           if (num % i) == 0:\n",
        "               break\n",
        "       else:\n",
        "           print(num)"
      ]
    }
  ]
}